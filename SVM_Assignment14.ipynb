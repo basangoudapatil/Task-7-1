{
  "nbformat": 4,
  "nbformat_minor": 0,
  "metadata": {
    "colab": {
      "provenance": [],
      "include_colab_link": true
    },
    "kernelspec": {
      "name": "python3",
      "display_name": "Python 3"
    },
    "language_info": {
      "name": "python"
    }
  },
  "cells": [
    {
      "cell_type": "markdown",
      "metadata": {
        "id": "view-in-github",
        "colab_type": "text"
      },
      "source": [
        "<a href=\"https://colab.research.google.com/github/basangoudapatil/Task-8/blob/main/SVM_Assignment14.ipynb\" target=\"_parent\"><img src=\"https://colab.research.google.com/assets/colab-badge.svg\" alt=\"Open In Colab\"/></a>"
      ]
    },
    {
      "cell_type": "code",
      "metadata": {
        "id": "OTEpzVunhgga"
      },
      "source": [
        "#Social_Network_Ads.csv"
      ],
      "execution_count": null,
      "outputs": []
    },
    {
      "cell_type": "markdown",
      "metadata": {
        "id": "Qa5Bo_A9h3kB"
      },
      "source": [
        "**Import libraries**"
      ]
    },
    {
      "cell_type": "code",
      "metadata": {
        "id": "pFIDCPu9h1DO"
      },
      "source": [
        "import pandas as pd\n",
        "import numpy as np"
      ],
      "execution_count": 2,
      "outputs": []
    },
    {
      "cell_type": "markdown",
      "metadata": {
        "id": "L9CQXJjkiKRq"
      },
      "source": [
        "**Importing the dataset**"
      ]
    },
    {
      "cell_type": "code",
      "metadata": {
        "id": "ZNiJnC7hh1HC",
        "colab": {
          "base_uri": "https://localhost:8080/",
          "height": 424
        },
        "outputId": "374a8031-384a-46fd-ccf8-b07883ed7062"
      },
      "source": [
        "df = pd.read_csv('/content/Social_Network_Ads.csv')\n",
        "df"
      ],
      "execution_count": 3,
      "outputs": [
        {
          "output_type": "execute_result",
          "data": {
            "text/plain": [
              "      User ID  Gender  Age  EstimatedSalary  Purchased\n",
              "0    15624510    Male   19            19000          0\n",
              "1    15810944    Male   35            20000          0\n",
              "2    15668575  Female   26            43000          0\n",
              "3    15603246  Female   27            57000          0\n",
              "4    15804002    Male   19            76000          0\n",
              "..        ...     ...  ...              ...        ...\n",
              "395  15691863  Female   46            41000          1\n",
              "396  15706071    Male   51            23000          1\n",
              "397  15654296  Female   50            20000          1\n",
              "398  15755018    Male   36            33000          0\n",
              "399  15594041  Female   49            36000          1\n",
              "\n",
              "[400 rows x 5 columns]"
            ],
            "text/html": [
              "\n",
              "  <div id=\"df-ddd02603-be7a-42ad-b37e-464107baff1a\">\n",
              "    <div class=\"colab-df-container\">\n",
              "      <div>\n",
              "<style scoped>\n",
              "    .dataframe tbody tr th:only-of-type {\n",
              "        vertical-align: middle;\n",
              "    }\n",
              "\n",
              "    .dataframe tbody tr th {\n",
              "        vertical-align: top;\n",
              "    }\n",
              "\n",
              "    .dataframe thead th {\n",
              "        text-align: right;\n",
              "    }\n",
              "</style>\n",
              "<table border=\"1\" class=\"dataframe\">\n",
              "  <thead>\n",
              "    <tr style=\"text-align: right;\">\n",
              "      <th></th>\n",
              "      <th>User ID</th>\n",
              "      <th>Gender</th>\n",
              "      <th>Age</th>\n",
              "      <th>EstimatedSalary</th>\n",
              "      <th>Purchased</th>\n",
              "    </tr>\n",
              "  </thead>\n",
              "  <tbody>\n",
              "    <tr>\n",
              "      <th>0</th>\n",
              "      <td>15624510</td>\n",
              "      <td>Male</td>\n",
              "      <td>19</td>\n",
              "      <td>19000</td>\n",
              "      <td>0</td>\n",
              "    </tr>\n",
              "    <tr>\n",
              "      <th>1</th>\n",
              "      <td>15810944</td>\n",
              "      <td>Male</td>\n",
              "      <td>35</td>\n",
              "      <td>20000</td>\n",
              "      <td>0</td>\n",
              "    </tr>\n",
              "    <tr>\n",
              "      <th>2</th>\n",
              "      <td>15668575</td>\n",
              "      <td>Female</td>\n",
              "      <td>26</td>\n",
              "      <td>43000</td>\n",
              "      <td>0</td>\n",
              "    </tr>\n",
              "    <tr>\n",
              "      <th>3</th>\n",
              "      <td>15603246</td>\n",
              "      <td>Female</td>\n",
              "      <td>27</td>\n",
              "      <td>57000</td>\n",
              "      <td>0</td>\n",
              "    </tr>\n",
              "    <tr>\n",
              "      <th>4</th>\n",
              "      <td>15804002</td>\n",
              "      <td>Male</td>\n",
              "      <td>19</td>\n",
              "      <td>76000</td>\n",
              "      <td>0</td>\n",
              "    </tr>\n",
              "    <tr>\n",
              "      <th>...</th>\n",
              "      <td>...</td>\n",
              "      <td>...</td>\n",
              "      <td>...</td>\n",
              "      <td>...</td>\n",
              "      <td>...</td>\n",
              "    </tr>\n",
              "    <tr>\n",
              "      <th>395</th>\n",
              "      <td>15691863</td>\n",
              "      <td>Female</td>\n",
              "      <td>46</td>\n",
              "      <td>41000</td>\n",
              "      <td>1</td>\n",
              "    </tr>\n",
              "    <tr>\n",
              "      <th>396</th>\n",
              "      <td>15706071</td>\n",
              "      <td>Male</td>\n",
              "      <td>51</td>\n",
              "      <td>23000</td>\n",
              "      <td>1</td>\n",
              "    </tr>\n",
              "    <tr>\n",
              "      <th>397</th>\n",
              "      <td>15654296</td>\n",
              "      <td>Female</td>\n",
              "      <td>50</td>\n",
              "      <td>20000</td>\n",
              "      <td>1</td>\n",
              "    </tr>\n",
              "    <tr>\n",
              "      <th>398</th>\n",
              "      <td>15755018</td>\n",
              "      <td>Male</td>\n",
              "      <td>36</td>\n",
              "      <td>33000</td>\n",
              "      <td>0</td>\n",
              "    </tr>\n",
              "    <tr>\n",
              "      <th>399</th>\n",
              "      <td>15594041</td>\n",
              "      <td>Female</td>\n",
              "      <td>49</td>\n",
              "      <td>36000</td>\n",
              "      <td>1</td>\n",
              "    </tr>\n",
              "  </tbody>\n",
              "</table>\n",
              "<p>400 rows × 5 columns</p>\n",
              "</div>\n",
              "      <button class=\"colab-df-convert\" onclick=\"convertToInteractive('df-ddd02603-be7a-42ad-b37e-464107baff1a')\"\n",
              "              title=\"Convert this dataframe to an interactive table.\"\n",
              "              style=\"display:none;\">\n",
              "        \n",
              "  <svg xmlns=\"http://www.w3.org/2000/svg\" height=\"24px\"viewBox=\"0 0 24 24\"\n",
              "       width=\"24px\">\n",
              "    <path d=\"M0 0h24v24H0V0z\" fill=\"none\"/>\n",
              "    <path d=\"M18.56 5.44l.94 2.06.94-2.06 2.06-.94-2.06-.94-.94-2.06-.94 2.06-2.06.94zm-11 1L8.5 8.5l.94-2.06 2.06-.94-2.06-.94L8.5 2.5l-.94 2.06-2.06.94zm10 10l.94 2.06.94-2.06 2.06-.94-2.06-.94-.94-2.06-.94 2.06-2.06.94z\"/><path d=\"M17.41 7.96l-1.37-1.37c-.4-.4-.92-.59-1.43-.59-.52 0-1.04.2-1.43.59L10.3 9.45l-7.72 7.72c-.78.78-.78 2.05 0 2.83L4 21.41c.39.39.9.59 1.41.59.51 0 1.02-.2 1.41-.59l7.78-7.78 2.81-2.81c.8-.78.8-2.07 0-2.86zM5.41 20L4 18.59l7.72-7.72 1.47 1.35L5.41 20z\"/>\n",
              "  </svg>\n",
              "      </button>\n",
              "      \n",
              "  <style>\n",
              "    .colab-df-container {\n",
              "      display:flex;\n",
              "      flex-wrap:wrap;\n",
              "      gap: 12px;\n",
              "    }\n",
              "\n",
              "    .colab-df-convert {\n",
              "      background-color: #E8F0FE;\n",
              "      border: none;\n",
              "      border-radius: 50%;\n",
              "      cursor: pointer;\n",
              "      display: none;\n",
              "      fill: #1967D2;\n",
              "      height: 32px;\n",
              "      padding: 0 0 0 0;\n",
              "      width: 32px;\n",
              "    }\n",
              "\n",
              "    .colab-df-convert:hover {\n",
              "      background-color: #E2EBFA;\n",
              "      box-shadow: 0px 1px 2px rgba(60, 64, 67, 0.3), 0px 1px 3px 1px rgba(60, 64, 67, 0.15);\n",
              "      fill: #174EA6;\n",
              "    }\n",
              "\n",
              "    [theme=dark] .colab-df-convert {\n",
              "      background-color: #3B4455;\n",
              "      fill: #D2E3FC;\n",
              "    }\n",
              "\n",
              "    [theme=dark] .colab-df-convert:hover {\n",
              "      background-color: #434B5C;\n",
              "      box-shadow: 0px 1px 3px 1px rgba(0, 0, 0, 0.15);\n",
              "      filter: drop-shadow(0px 1px 2px rgba(0, 0, 0, 0.3));\n",
              "      fill: #FFFFFF;\n",
              "    }\n",
              "  </style>\n",
              "\n",
              "      <script>\n",
              "        const buttonEl =\n",
              "          document.querySelector('#df-ddd02603-be7a-42ad-b37e-464107baff1a button.colab-df-convert');\n",
              "        buttonEl.style.display =\n",
              "          google.colab.kernel.accessAllowed ? 'block' : 'none';\n",
              "\n",
              "        async function convertToInteractive(key) {\n",
              "          const element = document.querySelector('#df-ddd02603-be7a-42ad-b37e-464107baff1a');\n",
              "          const dataTable =\n",
              "            await google.colab.kernel.invokeFunction('convertToInteractive',\n",
              "                                                     [key], {});\n",
              "          if (!dataTable) return;\n",
              "\n",
              "          const docLinkHtml = 'Like what you see? Visit the ' +\n",
              "            '<a target=\"_blank\" href=https://colab.research.google.com/notebooks/data_table.ipynb>data table notebook</a>'\n",
              "            + ' to learn more about interactive tables.';\n",
              "          element.innerHTML = '';\n",
              "          dataTable['output_type'] = 'display_data';\n",
              "          await google.colab.output.renderOutput(dataTable, element);\n",
              "          const docLink = document.createElement('div');\n",
              "          docLink.innerHTML = docLinkHtml;\n",
              "          element.appendChild(docLink);\n",
              "        }\n",
              "      </script>\n",
              "    </div>\n",
              "  </div>\n",
              "  "
            ]
          },
          "metadata": {},
          "execution_count": 3
        }
      ]
    },
    {
      "cell_type": "code",
      "source": [
        "df.shape"
      ],
      "metadata": {
        "colab": {
          "base_uri": "https://localhost:8080/"
        },
        "id": "BaNzPbVSyqz5",
        "outputId": "1623e46e-35e9-41c2-d000-f0675894a525"
      },
      "execution_count": 22,
      "outputs": [
        {
          "output_type": "execute_result",
          "data": {
            "text/plain": [
              "(400, 5)"
            ]
          },
          "metadata": {},
          "execution_count": 22
        }
      ]
    },
    {
      "cell_type": "code",
      "source": [
        "df.isnull().sum()"
      ],
      "metadata": {
        "colab": {
          "base_uri": "https://localhost:8080/"
        },
        "id": "uHges5K0ujHF",
        "outputId": "4d310345-4937-4497-fd32-9450cf615d00"
      },
      "execution_count": 4,
      "outputs": [
        {
          "output_type": "execute_result",
          "data": {
            "text/plain": [
              "User ID            0\n",
              "Gender             0\n",
              "Age                0\n",
              "EstimatedSalary    0\n",
              "Purchased          0\n",
              "dtype: int64"
            ]
          },
          "metadata": {},
          "execution_count": 4
        }
      ]
    },
    {
      "cell_type": "code",
      "source": [
        "df.dtypes"
      ],
      "metadata": {
        "colab": {
          "base_uri": "https://localhost:8080/"
        },
        "id": "PG6pUOU9ulhb",
        "outputId": "826574aa-4fb5-4970-9531-1d7e256d38bc"
      },
      "execution_count": 5,
      "outputs": [
        {
          "output_type": "execute_result",
          "data": {
            "text/plain": [
              "User ID             int64\n",
              "Gender             object\n",
              "Age                 int64\n",
              "EstimatedSalary     int64\n",
              "Purchased           int64\n",
              "dtype: object"
            ]
          },
          "metadata": {},
          "execution_count": 5
        }
      ]
    },
    {
      "cell_type": "code",
      "source": [
        "df = df.drop_duplicates()"
      ],
      "metadata": {
        "id": "0gb86BaqunY8"
      },
      "execution_count": 6,
      "outputs": []
    },
    {
      "cell_type": "markdown",
      "metadata": {
        "id": "GpelPvR4iSxv"
      },
      "source": [
        "**Splitting the dataset into the Training set and Test set**"
      ]
    },
    {
      "cell_type": "code",
      "metadata": {
        "id": "eROg-IDUh1JZ"
      },
      "source": [
        "from sklearn.model_selection import train_test_split\n",
        "\n",
        "X = df.loc[:,['Age','EstimatedSalary']].values\n",
        "y = df.loc[:,'Purchased'].values\n",
        "\n",
        "X_train, X_test, y_train, y_test = train_test_split(X, y, test_size=0.3, random_state = 4)"
      ],
      "execution_count": 10,
      "outputs": []
    },
    {
      "cell_type": "code",
      "source": [
        "X_train.shape, y_train.shape"
      ],
      "metadata": {
        "colab": {
          "base_uri": "https://localhost:8080/"
        },
        "id": "lv8zIhcrvOnB",
        "outputId": "5fe37572-0273-4d85-e4e3-552b906f76c5"
      },
      "execution_count": 11,
      "outputs": [
        {
          "output_type": "execute_result",
          "data": {
            "text/plain": [
              "((280, 2), (280,))"
            ]
          },
          "metadata": {},
          "execution_count": 11
        }
      ]
    },
    {
      "cell_type": "code",
      "source": [
        "X_train"
      ],
      "metadata": {
        "colab": {
          "base_uri": "https://localhost:8080/"
        },
        "id": "6zuRCCofvS6K",
        "outputId": "b69c0b07-56aa-4b53-ff58-54831a0c0368"
      },
      "execution_count": 12,
      "outputs": [
        {
          "output_type": "execute_result",
          "data": {
            "text/plain": [
              "array([[    28,  44000],\n",
              "       [    34,  43000],\n",
              "       [    37,  62000],\n",
              "       [    35,  91000],\n",
              "       [    53, 143000],\n",
              "       [    26,  81000],\n",
              "       [    39,  71000],\n",
              "       [    38,  61000],\n",
              "       [    42,  90000],\n",
              "       [    47,  34000],\n",
              "       [    41,  52000],\n",
              "       [    25,  79000],\n",
              "       [    58,  47000],\n",
              "       [    32, 135000],\n",
              "       [    35,  50000],\n",
              "       [    37, 146000],\n",
              "       [    31,  58000],\n",
              "       [    32, 100000],\n",
              "       [    37,  52000],\n",
              "       [    28,  37000],\n",
              "       [    60,  34000],\n",
              "       [    48, 141000],\n",
              "       [    41,  80000],\n",
              "       [    42,  54000],\n",
              "       [    52,  21000],\n",
              "       [    42,  75000],\n",
              "       [    30, 107000],\n",
              "       [    47,  25000],\n",
              "       [    23,  28000],\n",
              "       [    29,  75000],\n",
              "       [    30, 116000],\n",
              "       [    47, 144000],\n",
              "       [    58, 101000],\n",
              "       [    28,  59000],\n",
              "       [    42,  65000],\n",
              "       [    37,  77000],\n",
              "       [    27,  31000],\n",
              "       [    60,  42000],\n",
              "       [    45,  26000],\n",
              "       [    48,  30000],\n",
              "       [    24,  27000],\n",
              "       [    45,  22000],\n",
              "       [    35,  79000],\n",
              "       [    47,  43000],\n",
              "       [    59,  76000],\n",
              "       [    41,  71000],\n",
              "       [    34,  25000],\n",
              "       [    37,  79000],\n",
              "       [    49,  88000],\n",
              "       [    42,  79000],\n",
              "       [    21,  88000],\n",
              "       [    20,  82000],\n",
              "       [    60,  46000],\n",
              "       [    40,  75000],\n",
              "       [    31,  68000],\n",
              "       [    36, 144000],\n",
              "       [    54, 108000],\n",
              "       [    41,  72000],\n",
              "       [    19,  26000],\n",
              "       [    48,  96000],\n",
              "       [    40,  57000],\n",
              "       [    37,  55000],\n",
              "       [    39, 134000],\n",
              "       [    32, 117000],\n",
              "       [    60,  83000],\n",
              "       [    36, 118000],\n",
              "       [    40,  65000],\n",
              "       [    40, 107000],\n",
              "       [    31,  66000],\n",
              "       [    39,  75000],\n",
              "       [    30,  87000],\n",
              "       [    49,  65000],\n",
              "       [    25,  22000],\n",
              "       [    57,  74000],\n",
              "       [    36,  60000],\n",
              "       [    38,  50000],\n",
              "       [    48,  29000],\n",
              "       [    60,  42000],\n",
              "       [    36,  52000],\n",
              "       [    30, 135000],\n",
              "       [    55, 125000],\n",
              "       [    40,  71000],\n",
              "       [    41,  87000],\n",
              "       [    41,  30000],\n",
              "       [    24,  58000],\n",
              "       [    59, 130000],\n",
              "       [    42,  70000],\n",
              "       [    35,  75000],\n",
              "       [    37,  70000],\n",
              "       [    60, 102000],\n",
              "       [    42, 108000],\n",
              "       [    49,  28000],\n",
              "       [    47, 105000],\n",
              "       [    25,  33000],\n",
              "       [    37,  71000],\n",
              "       [    46,  32000],\n",
              "       [    30,  49000],\n",
              "       [    39,  71000],\n",
              "       [    40,  59000],\n",
              "       [    42,  53000],\n",
              "       [    39, 134000],\n",
              "       [    45,  22000],\n",
              "       [    35,  72000],\n",
              "       [    54, 104000],\n",
              "       [    22,  81000],\n",
              "       [    18,  52000],\n",
              "       [    26,  86000],\n",
              "       [    29,  43000],\n",
              "       [    38,  55000],\n",
              "       [    37,  33000],\n",
              "       [    35,  27000],\n",
              "       [    51,  23000],\n",
              "       [    38,  71000],\n",
              "       [    24,  23000],\n",
              "       [    39,  42000],\n",
              "       [    35,  38000],\n",
              "       [    28,  79000],\n",
              "       [    37,  72000],\n",
              "       [    46,  22000],\n",
              "       [    53, 104000],\n",
              "       [    46,  82000],\n",
              "       [    49,  28000],\n",
              "       [    50,  88000],\n",
              "       [    47, 113000],\n",
              "       [    19,  85000],\n",
              "       [    53,  34000],\n",
              "       [    19,  21000],\n",
              "       [    19,  76000],\n",
              "       [    37,  93000],\n",
              "       [    22,  27000],\n",
              "       [    37,  57000],\n",
              "       [    59,  29000],\n",
              "       [    58,  38000],\n",
              "       [    23,  63000],\n",
              "       [    23,  66000],\n",
              "       [    38,  65000],\n",
              "       [    46,  96000],\n",
              "       [    43, 112000],\n",
              "       [    31,  15000],\n",
              "       [    35,  97000],\n",
              "       [    53,  72000],\n",
              "       [    56, 133000],\n",
              "       [    35,  61000],\n",
              "       [    26,  43000],\n",
              "       [    33,  28000],\n",
              "       [    31,  18000],\n",
              "       [    27,  58000],\n",
              "       [    21,  16000],\n",
              "       [    40,  57000],\n",
              "       [    46,  59000],\n",
              "       [    37,  78000],\n",
              "       [    59,  88000],\n",
              "       [    38,  61000],\n",
              "       [    48,  33000],\n",
              "       [    32,  18000],\n",
              "       [    45, 131000],\n",
              "       [    30,  89000],\n",
              "       [    33,  51000],\n",
              "       [    26,  80000],\n",
              "       [    31,  34000],\n",
              "       [    32, 150000],\n",
              "       [    40, 142000],\n",
              "       [    29,  61000],\n",
              "       [    45,  79000],\n",
              "       [    36, 125000],\n",
              "       [    54,  26000],\n",
              "       [    39,  73000],\n",
              "       [    28, 123000],\n",
              "       [    60, 108000],\n",
              "       [    42,  64000],\n",
              "       [    26,  17000],\n",
              "       [    35, 147000],\n",
              "       [    47,  50000],\n",
              "       [    41,  59000],\n",
              "       [    58,  23000],\n",
              "       [    18,  68000],\n",
              "       [    29,  80000],\n",
              "       [    26,  32000],\n",
              "       [    24,  55000],\n",
              "       [    34, 115000],\n",
              "       [    47,  30000],\n",
              "       [    39, 106000],\n",
              "       [    38, 112000],\n",
              "       [    40,  57000],\n",
              "       [    26,  15000],\n",
              "       [    58, 144000],\n",
              "       [    23,  82000],\n",
              "       [    35,  60000],\n",
              "       [    47,  23000],\n",
              "       [    27,  17000],\n",
              "       [    48, 131000],\n",
              "       [    35,  77000],\n",
              "       [    33,  31000],\n",
              "       [    37,  75000],\n",
              "       [    39,  77000],\n",
              "       [    30,  79000],\n",
              "       [    35,  23000],\n",
              "       [    39,  61000],\n",
              "       [    35,  65000],\n",
              "       [    28,  87000],\n",
              "       [    42,  73000],\n",
              "       [    27, 137000],\n",
              "       [    47, 107000],\n",
              "       [    34, 112000],\n",
              "       [    41,  72000],\n",
              "       [    26,  30000],\n",
              "       [    27,  58000],\n",
              "       [    44,  39000],\n",
              "       [    18,  86000],\n",
              "       [    48,  90000],\n",
              "       [    18,  44000],\n",
              "       [    27,  89000],\n",
              "       [    32, 117000],\n",
              "       [    55,  39000],\n",
              "       [    31, 118000],\n",
              "       [    36,  99000],\n",
              "       [    31,  71000],\n",
              "       [    35,  22000],\n",
              "       [    37,  80000],\n",
              "       [    39,  42000],\n",
              "       [    26,  80000],\n",
              "       [    37,  80000],\n",
              "       [    50,  36000],\n",
              "       [    48, 119000],\n",
              "       [    41,  63000],\n",
              "       [    24,  84000],\n",
              "       [    48,  41000],\n",
              "       [    37, 144000],\n",
              "       [    42,  80000],\n",
              "       [    41,  45000],\n",
              "       [    35,  47000],\n",
              "       [    33,  41000],\n",
              "       [    33, 113000],\n",
              "       [    40,  78000],\n",
              "       [    42, 149000],\n",
              "       [    24,  89000],\n",
              "       [    24,  32000],\n",
              "       [    52,  90000],\n",
              "       [    35,  44000],\n",
              "       [    35,  73000],\n",
              "       [    52, 114000],\n",
              "       [    27,  57000],\n",
              "       [    48,  33000],\n",
              "       [    41,  79000],\n",
              "       [    25,  90000],\n",
              "       [    56, 104000],\n",
              "       [    29, 148000],\n",
              "       [    47,  51000],\n",
              "       [    41,  52000],\n",
              "       [    31,  89000],\n",
              "       [    20,  82000],\n",
              "       [    31,  74000],\n",
              "       [    36,  33000],\n",
              "       [    28,  89000],\n",
              "       [    23,  48000],\n",
              "       [    49,  74000],\n",
              "       [    20,  74000],\n",
              "       [    47,  49000],\n",
              "       [    33,  43000],\n",
              "       [    19,  19000],\n",
              "       [    29,  83000],\n",
              "       [    42,  65000],\n",
              "       [    35,  57000],\n",
              "       [    28,  84000],\n",
              "       [    33,  69000],\n",
              "       [    46,  41000],\n",
              "       [    49, 141000],\n",
              "       [    39,  96000],\n",
              "       [    29,  83000],\n",
              "       [    38,  80000],\n",
              "       [    42,  54000],\n",
              "       [    48, 134000],\n",
              "       [    22,  18000],\n",
              "       [    51, 134000],\n",
              "       [    28,  85000],\n",
              "       [    43, 129000],\n",
              "       [    56,  60000],\n",
              "       [    20,  36000],\n",
              "       [    34,  72000],\n",
              "       [    40,  75000]])"
            ]
          },
          "metadata": {},
          "execution_count": 12
        }
      ]
    },
    {
      "cell_type": "markdown",
      "metadata": {
        "id": "cwBqfX6WiZOx"
      },
      "source": [
        "**Feature Scaling**"
      ]
    },
    {
      "cell_type": "code",
      "metadata": {
        "id": "yCcfuhv_h1Lw"
      },
      "source": [
        "from sklearn.preprocessing import StandardScaler\n",
        "scaler = StandardScaler()\n",
        "\n",
        "X_train = scaler.fit_transform(X_train)\n",
        "X_test = scaler.transform(X_test)"
      ],
      "execution_count": 13,
      "outputs": []
    },
    {
      "cell_type": "markdown",
      "metadata": {
        "id": "OUGszSAKinhN"
      },
      "source": [
        "**Fitting SVM to the Training set**"
      ]
    },
    {
      "cell_type": "code",
      "metadata": {
        "id": "FLIzMPkOh1Ob",
        "colab": {
          "base_uri": "https://localhost:8080/"
        },
        "outputId": "e631196d-d2f4-45b0-d447-fcf3bce88b6b"
      },
      "source": [
        "from sklearn.svm import SVC\n",
        "Kernels = ['linear', 'poly', 'rbf', 'sigmoid']\n",
        "\n",
        "for k in Kernels:\n",
        "  model = SVC(kernel=k)\n",
        "  model.fit(X_train, y_train)\n",
        "\n",
        "  from sklearn.metrics import accuracy_score, roc_auc_score\n",
        "  y_pred = model.predict(X_test)\n",
        "  print('Kernel=',k, 'Accuracy=',accuracy_score(y_test, y_pred), 'AUROC score=',roc_auc_score(y_test, y_pred))"
      ],
      "execution_count": 16,
      "outputs": [
        {
          "output_type": "stream",
          "name": "stdout",
          "text": [
            "Kernel= linear Accuracy= 0.875 AUROC score= 0.8409306742640075\n",
            "Kernel= poly Accuracy= 0.85 AUROC score= 0.802469135802469\n",
            "Kernel= rbf Accuracy= 0.925 AUROC score= 0.9311490978157646\n",
            "Kernel= sigmoid Accuracy= 0.7666666666666667 AUROC score= 0.7274453941120608\n"
          ]
        }
      ]
    },
    {
      "cell_type": "code",
      "source": [
        "# from the above results rbf Kernel gives the highest AUROC score and better accuracy\n",
        "# consider rbf kernel\n",
        "model1 = SVC(kernel = 'rbf')\n",
        "model1.fit(X_train, y_train)"
      ],
      "metadata": {
        "colab": {
          "base_uri": "https://localhost:8080/"
        },
        "id": "_5Ox7Lo9yH6H",
        "outputId": "307f3b1d-fa57-400e-e068-405720ffbbfe"
      },
      "execution_count": 19,
      "outputs": [
        {
          "output_type": "execute_result",
          "data": {
            "text/plain": [
              "SVC()"
            ]
          },
          "metadata": {},
          "execution_count": 19
        }
      ]
    },
    {
      "cell_type": "markdown",
      "metadata": {
        "id": "aW3yFyofiqtE"
      },
      "source": [
        "**Predicting the Test set results**"
      ]
    },
    {
      "cell_type": "code",
      "metadata": {
        "id": "aG_OGjavh1Q4",
        "colab": {
          "base_uri": "https://localhost:8080/"
        },
        "outputId": "09374fdf-a2e8-4ea8-f0d0-5e4ede1b1839"
      },
      "source": [
        "# Predicting the test results\n",
        "y_pred = model1.predict(X_test)\n",
        "y_pred"
      ],
      "execution_count": 20,
      "outputs": [
        {
          "output_type": "execute_result",
          "data": {
            "text/plain": [
              "array([0, 0, 0, 0, 0, 1, 1, 1, 1, 0, 0, 0, 0, 0, 0, 0, 0, 0, 0, 0, 0, 0,\n",
              "       0, 1, 0, 1, 0, 0, 0, 0, 0, 1, 0, 0, 1, 0, 1, 0, 0, 0, 1, 0, 0, 0,\n",
              "       1, 0, 0, 0, 1, 1, 0, 1, 0, 1, 1, 0, 1, 0, 0, 1, 1, 1, 0, 0, 0, 0,\n",
              "       0, 0, 0, 1, 0, 1, 0, 1, 1, 0, 0, 0, 0, 1, 0, 1, 1, 0, 0, 0, 0, 1,\n",
              "       0, 0, 1, 0, 0, 1, 0, 1, 1, 0, 1, 1, 0, 0, 0, 1, 1, 1, 0, 1, 0, 1,\n",
              "       1, 0, 1, 0, 0, 1, 0, 1, 1, 0])"
            ]
          },
          "metadata": {},
          "execution_count": 20
        }
      ]
    },
    {
      "cell_type": "markdown",
      "metadata": {
        "id": "4Kfn-chPi4Ts"
      },
      "source": [
        "**Making the Confusion Matrix**"
      ]
    },
    {
      "cell_type": "code",
      "metadata": {
        "id": "G7VPRN2Ah1Tm",
        "colab": {
          "base_uri": "https://localhost:8080/"
        },
        "outputId": "7329857c-2ed6-4ac9-caf4-de97538869d2"
      },
      "source": [
        "from sklearn.metrics import confusion_matrix\n",
        "confusion_matrix(y_pred, y_test)"
      ],
      "execution_count": 21,
      "outputs": [
        {
          "output_type": "execute_result",
          "data": {
            "text/plain": [
              "array([[74,  2],\n",
              "       [ 7, 37]])"
            ]
          },
          "metadata": {},
          "execution_count": 21
        }
      ]
    },
    {
      "cell_type": "markdown",
      "metadata": {
        "id": "7Fo3I-pKi7JQ"
      },
      "source": [
        "**Visualising the Training set results**"
      ]
    },
    {
      "cell_type": "code",
      "metadata": {
        "id": "hI3xXh_oh1XK"
      },
      "source": [
        "import matplotlib.pyplot as plt\n",
        "def plot_decision_boundary(clf, X, Y, cmap='Paired_r'):\n",
        "    x_min, x_max = X[:,0].min() - 1, X[:,0].max() + 1\n",
        "    y_min, y_max = X[:,1].min() - 1, X[:,1].max() + 1\n",
        "    h = (x_max - x_min)/100\n",
        "    xx, yy = np.meshgrid(np.arange(x_min, x_max, h),\n",
        "                         np.arange(y_min, y_max, h))\n",
        "    Z = clf.predict(np.c_[xx.ravel(), yy.ravel()])\n",
        "    Z = Z.reshape(xx.shape)\n",
        "\n",
        "    plt.figure(figsize=(5,5))\n",
        "    plt.contourf(xx, yy, Z, cmap=cmap, alpha=0.25)\n",
        "    plt.contour(xx, yy, Z, colors='k', linewidths=0.7)\n",
        "    plt.scatter(X[:,0], X[:,1], c=Y, cmap=cmap, edgecolors='k');"
      ],
      "execution_count": 23,
      "outputs": []
    },
    {
      "cell_type": "code",
      "metadata": {
        "id": "YzMdeL7FjHnn",
        "colab": {
          "base_uri": "https://localhost:8080/",
          "height": 320
        },
        "outputId": "4ca1ac06-ef86-4704-8892-37c3bb965b05"
      },
      "source": [
        "plot_decision_boundary(model1, X_train, y_train)"
      ],
      "execution_count": 26,
      "outputs": [
        {
          "output_type": "display_data",
          "data": {
            "text/plain": [
              "<Figure size 360x360 with 1 Axes>"
            ],
            "image/png": "[encoded data removed]"
          },
          "metadata": {
            "needs_background": "light"
          }
        }
      ]
    },
    {
      "cell_type": "markdown",
      "metadata": {
        "id": "FudAc9-6jSS9"
      },
      "source": [
        "**Visualising the Test set results**"
      ]
    },
    {
      "cell_type": "code",
      "metadata": {
        "id": "Q3aQCPffjHqj",
        "colab": {
          "base_uri": "https://localhost:8080/",
          "height": 320
        },
        "outputId": "39a185fd-4bd9-4acb-f196-71a32dca2fda"
      },
      "source": [
        "plot_decision_boundary(model1, X_test, y_test)"
      ],
      "execution_count": 27,
      "outputs": [
        {
          "output_type": "display_data",
          "data": {
            "text/plain": [
              "<Figure size 360x360 with 1 Axes>"
            ],
            "image/png": "[encoded data removed]"
          },
          "metadata": {
            "needs_background": "light"
          }
        }
      ]
    }
  ]
}